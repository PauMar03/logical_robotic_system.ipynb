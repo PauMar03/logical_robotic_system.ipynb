{
  "nbformat": 4,
  "nbformat_minor": 0,
  "metadata": {
    "colab": {
      "provenance": []
    },
    "kernelspec": {
      "name": "python3",
      "display_name": "Python 3"
    },
    "language_info": {
      "name": "python"
    }
  },
  "cells": [
    {
      "cell_type": "code",
      "source": [
        "from sympy import symbols\n",
        "from sympy.logic.boolalg import Implies, And, Or, Not\n",
        "from sympy.logic.inference import satisfiable\n",
        "from pyDatalog import pyDatalog\n",
        "\n",
        "pyDatalog.clear()\n",
        "\n",
        "# Definir componentes del brazo robótico\n",
        "Brazo, Motor, SensorPosicion, SensorFuerza, Controlador = symbols('Brazo Motor SensorPosicion SensorFuerza Controlador')\n",
        "\n",
        "# Definir estados del sistema\n",
        "PosicionPrecisa, FuerzaAdecuada, ErrorDetectado, CorreccionAplicada = symbols('PosicionPrecisa FuerzaAdecuada ErrorDetectado CorreccionAplicada')\n",
        "\n",
        "# Definir relaciones lógicas\n",
        "control_exitoso = And(PosicionPrecisa, FuerzaAdecuada)\n",
        "deteccion_error = Implies(ErrorDetectado, CorreccionAplicada)\n",
        "\n",
        "# Hechos en lógica proposicional\n",
        "hecho1 = And(PosicionPrecisa.subs(PosicionPrecisa, SensorPosicion), FuerzaAdecuada.subs(FuerzaAdecuada, SensorFuerza))\n",
        "hecho2 = ErrorDetectado.subs(ErrorDetectado, SensorPosicion)\n",
        "hecho3 = CorreccionAplicada.subs(CorreccionAplicada, Controlador)\n",
        "\n",
        "# Inferencias en lógica proposicional\n",
        "print(\"¿El brazo está en posición precisa?\", satisfiable(hecho1.subs(PosicionPrecisa, SensorPosicion)))\n",
        "print(\"¿El sensor de posición detecta un error?\", satisfiable(hecho2))\n",
        "print(\"¿El controlador aplica una corrección?\", satisfiable(hecho3))\n",
        "\n",
        "# Lógica declarativa con PyDatalog\n",
        "pyDatalog.create_terms('es_componente, tiene_funcion, depende_de, pertenece_a_sistema, X, Y')\n",
        "\n",
        "# Hechos: Componentes del brazo robótico\n",
        "+ es_componente('Brazo')\n",
        "+ es_componente('Motor')\n",
        "+ es_componente('SensorPosicion')\n",
        "+ es_componente('SensorFuerza')\n",
        "+ es_componente('Controlador')\n",
        "\n",
        "# Funciones de cada componente\n",
        "+ tiene_funcion('Brazo', 'Manipular objetos')\n",
        "+ tiene_funcion('Motor', 'Generar movimiento')\n",
        "+ tiene_funcion('SensorPosicion', 'Detectar posición')\n",
        "+ tiene_funcion('SensorFuerza', 'Medir fuerza aplicada')\n",
        "+ tiene_funcion('Controlador', 'Regular el sistema')\n",
        "\n",
        "# Dependencias entre componentes\n",
        "+ depende_de('Motor', 'Controlador')\n",
        "+ depende_de('Brazo', 'Motor')\n",
        "+ depende_de('Controlador', 'SensorPosicion')\n",
        "+ depende_de('Controlador', 'SensorFuerza')\n",
        "\n",
        "# Pertenencia a subsistemas\n",
        "+ pertenece_a_sistema('Brazo', 'Sistema de Ensamblaje')\n",
        "+ pertenece_a_sistema('Motor', 'Sistema de Ensamblaje')\n",
        "+ pertenece_a_sistema('SensorPosicion', 'Sistema de Sensado')\n",
        "+ pertenece_a_sistema('SensorFuerza', 'Sistema de Sensado')\n",
        "+ pertenece_a_sistema('Controlador', 'Sistema de Control')\n",
        "\n",
        "# Consultas en PyDatalog\n",
        "print(es_componente(X))  # ¿Cuáles son los componentes del sistema?\n",
        "print(tiene_funcion(X, Y))  # ¿Qué función tiene cada componente?\n",
        "print(depende_de(X, 'Controlador'))  # ¿Qué elementos dependen del controlador?"
      ],
      "metadata": {
        "colab": {
          "base_uri": "https://localhost:8080/"
        },
        "id": "F4otlOJfgEcd",
        "outputId": "f23bcd5c-c92a-42f2-89f9-8f88c4bc44a8"
      },
      "execution_count": null,
      "outputs": [
        {
          "output_type": "stream",
          "name": "stdout",
          "text": [
            "¿El brazo está en posición precisa? {SensorFuerza: True, SensorPosicion: True}\n",
            "¿El sensor de posición detecta un error? {SensorPosicion: True}\n",
            "¿El controlador aplica una corrección? {Controlador: True}\n",
            "X             \n",
            "--------------\n",
            "Controlador   \n",
            "SensorFuerza  \n",
            "SensorPosicion\n",
            "Motor         \n",
            "Brazo         \n",
            "X              | Y                    \n",
            "---------------|----------------------\n",
            "Controlador    | Regular el sistema   \n",
            "SensorFuerza   | Medir fuerza aplicada\n",
            "SensorPosicion | Detectar posición    \n",
            "Motor          | Generar movimiento   \n",
            "Brazo          | Manipular objetos    \n",
            "X    \n",
            "-----\n",
            "Motor\n"
          ]
        }
      ]
    }
  ]
}